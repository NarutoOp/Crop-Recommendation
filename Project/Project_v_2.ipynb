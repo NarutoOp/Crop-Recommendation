{
 "cells": [
  {
   "cell_type": "code",
   "execution_count": 27,
   "metadata": {},
   "outputs": [],
   "source": [
    "import pandas as pd\n",
    "from sklearn import preprocessing \n",
    "from sklearn.linear_model import LinearRegression\n",
    "from sklearn.model_selection import train_test_split\n",
    "import matplotlib.pyplot as plt"
   ]
  },
  {
   "cell_type": "code",
   "execution_count": 2,
   "metadata": {},
   "outputs": [
    {
     "data": {
      "text/html": [
       "<div>\n",
       "<style scoped>\n",
       "    .dataframe tbody tr th:only-of-type {\n",
       "        vertical-align: middle;\n",
       "    }\n",
       "\n",
       "    .dataframe tbody tr th {\n",
       "        vertical-align: top;\n",
       "    }\n",
       "\n",
       "    .dataframe thead th {\n",
       "        text-align: right;\n",
       "    }\n",
       "</style>\n",
       "<table border=\"1\" class=\"dataframe\">\n",
       "  <thead>\n",
       "    <tr style=\"text-align: right;\">\n",
       "      <th></th>\n",
       "      <th>Year</th>\n",
       "      <th>State</th>\n",
       "      <th>Crop</th>\n",
       "      <th>Production</th>\n",
       "      <th>Cultivation_cost</th>\n",
       "      <th>Profit</th>\n",
       "    </tr>\n",
       "  </thead>\n",
       "  <tbody>\n",
       "    <tr>\n",
       "      <th>0</th>\n",
       "      <td>2008</td>\n",
       "      <td>Gujarat</td>\n",
       "      <td>Rice</td>\n",
       "      <td>1.22</td>\n",
       "      <td>9742.07</td>\n",
       "      <td>5876.010</td>\n",
       "    </tr>\n",
       "    <tr>\n",
       "      <th>1</th>\n",
       "      <td>2009</td>\n",
       "      <td>Gujarat</td>\n",
       "      <td>Rice</td>\n",
       "      <td>1.30</td>\n",
       "      <td>9821.07</td>\n",
       "      <td>5562.653</td>\n",
       "    </tr>\n",
       "    <tr>\n",
       "      <th>2</th>\n",
       "      <td>2010</td>\n",
       "      <td>Gujarat</td>\n",
       "      <td>Rice</td>\n",
       "      <td>1.29</td>\n",
       "      <td>9800.80</td>\n",
       "      <td>6972.270</td>\n",
       "    </tr>\n",
       "    <tr>\n",
       "      <th>3</th>\n",
       "      <td>2011</td>\n",
       "      <td>Gujarat</td>\n",
       "      <td>Rice</td>\n",
       "      <td>1.50</td>\n",
       "      <td>12832.76</td>\n",
       "      <td>7232.350</td>\n",
       "    </tr>\n",
       "    <tr>\n",
       "      <th>4</th>\n",
       "      <td>2012</td>\n",
       "      <td>Gujarat</td>\n",
       "      <td>Rice</td>\n",
       "      <td>1.79</td>\n",
       "      <td>17322.76</td>\n",
       "      <td>7422.080</td>\n",
       "    </tr>\n",
       "  </tbody>\n",
       "</table>\n",
       "</div>"
      ],
      "text/plain": [
       "   Year    State  Crop  Production  Cultivation_cost    Profit\n",
       "0  2008  Gujarat  Rice        1.22           9742.07  5876.010\n",
       "1  2009  Gujarat  Rice        1.30           9821.07  5562.653\n",
       "2  2010  Gujarat  Rice        1.29           9800.80  6972.270\n",
       "3  2011  Gujarat  Rice        1.50          12832.76  7232.350\n",
       "4  2012  Gujarat  Rice        1.79          17322.76  7422.080"
      ]
     },
     "execution_count": 2,
     "metadata": {},
     "output_type": "execute_result"
    }
   ],
   "source": [
    "data = pd.read_csv('Crop_profit_data.csv')\n",
    "data.head()"
   ]
  },
  {
   "cell_type": "code",
   "execution_count": 3,
   "metadata": {},
   "outputs": [
    {
     "data": {
      "text/html": [
       "<div>\n",
       "<style scoped>\n",
       "    .dataframe tbody tr th:only-of-type {\n",
       "        vertical-align: middle;\n",
       "    }\n",
       "\n",
       "    .dataframe tbody tr th {\n",
       "        vertical-align: top;\n",
       "    }\n",
       "\n",
       "    .dataframe thead th {\n",
       "        text-align: right;\n",
       "    }\n",
       "</style>\n",
       "<table border=\"1\" class=\"dataframe\">\n",
       "  <thead>\n",
       "    <tr style=\"text-align: right;\">\n",
       "      <th></th>\n",
       "      <th>Year</th>\n",
       "      <th>State</th>\n",
       "      <th>Crop</th>\n",
       "      <th>Production</th>\n",
       "      <th>Cultivation_cost</th>\n",
       "      <th>Profit</th>\n",
       "      <th>State_code</th>\n",
       "      <th>Crop_code</th>\n",
       "    </tr>\n",
       "  </thead>\n",
       "  <tbody>\n",
       "    <tr>\n",
       "      <th>0</th>\n",
       "      <td>2008</td>\n",
       "      <td>Gujarat</td>\n",
       "      <td>Rice</td>\n",
       "      <td>1.22</td>\n",
       "      <td>9742.07</td>\n",
       "      <td>5876.010</td>\n",
       "      <td>0</td>\n",
       "      <td>7</td>\n",
       "    </tr>\n",
       "    <tr>\n",
       "      <th>1</th>\n",
       "      <td>2009</td>\n",
       "      <td>Gujarat</td>\n",
       "      <td>Rice</td>\n",
       "      <td>1.30</td>\n",
       "      <td>9821.07</td>\n",
       "      <td>5562.653</td>\n",
       "      <td>0</td>\n",
       "      <td>7</td>\n",
       "    </tr>\n",
       "    <tr>\n",
       "      <th>2</th>\n",
       "      <td>2010</td>\n",
       "      <td>Gujarat</td>\n",
       "      <td>Rice</td>\n",
       "      <td>1.29</td>\n",
       "      <td>9800.80</td>\n",
       "      <td>6972.270</td>\n",
       "      <td>0</td>\n",
       "      <td>7</td>\n",
       "    </tr>\n",
       "    <tr>\n",
       "      <th>3</th>\n",
       "      <td>2011</td>\n",
       "      <td>Gujarat</td>\n",
       "      <td>Rice</td>\n",
       "      <td>1.50</td>\n",
       "      <td>12832.76</td>\n",
       "      <td>7232.350</td>\n",
       "      <td>0</td>\n",
       "      <td>7</td>\n",
       "    </tr>\n",
       "    <tr>\n",
       "      <th>4</th>\n",
       "      <td>2012</td>\n",
       "      <td>Gujarat</td>\n",
       "      <td>Rice</td>\n",
       "      <td>1.79</td>\n",
       "      <td>17322.76</td>\n",
       "      <td>7422.080</td>\n",
       "      <td>0</td>\n",
       "      <td>7</td>\n",
       "    </tr>\n",
       "  </tbody>\n",
       "</table>\n",
       "</div>"
      ],
      "text/plain": [
       "   Year    State  Crop  Production  Cultivation_cost    Profit  State_code  \\\n",
       "0  2008  Gujarat  Rice        1.22           9742.07  5876.010           0   \n",
       "1  2009  Gujarat  Rice        1.30           9821.07  5562.653           0   \n",
       "2  2010  Gujarat  Rice        1.29           9800.80  6972.270           0   \n",
       "3  2011  Gujarat  Rice        1.50          12832.76  7232.350           0   \n",
       "4  2012  Gujarat  Rice        1.79          17322.76  7422.080           0   \n",
       "\n",
       "   Crop_code  \n",
       "0          7  \n",
       "1          7  \n",
       "2          7  \n",
       "3          7  \n",
       "4          7  "
      ]
     },
     "execution_count": 3,
     "metadata": {},
     "output_type": "execute_result"
    }
   ],
   "source": [
    "le = preprocessing.LabelEncoder()\n",
    "x1 = data['State']\n",
    "y1 = data['Crop']\n",
    "x = le.fit_transform(x1)\n",
    "y = le.fit_transform(y1)\n",
    "data1 = data.merge(pd.DataFrame({'State_code': x,'Crop_code': y}),right_index=True,left_index=True)\n",
    "data1.head()        "
   ]
  },
  {
   "cell_type": "code",
   "execution_count": 30,
   "metadata": {},
   "outputs": [
    {
     "data": {
      "text/plain": [
       "array([[2008,    0,    7],\n",
       "       [2009,    0,    7],\n",
       "       [2010,    0,    7],\n",
       "       [2011,    0,    7],\n",
       "       [2012,    0,    7],\n",
       "       [2013,    0,    7],\n",
       "       [2014,    0,    7],\n",
       "       [2015,    0,    7],\n",
       "       [2016,    0,    7],\n",
       "       [2017,    0,    7],\n",
       "       [2018,    0,    7],\n",
       "       [2008,    0,    8],\n",
       "       [2009,    0,    8],\n",
       "       [2010,    0,    8],\n",
       "       [2011,    0,    8],\n",
       "       [2012,    0,    8],\n",
       "       [2013,    0,    8],\n",
       "       [2014,    0,    8],\n",
       "       [2015,    0,    8],\n",
       "       [2016,    0,    8],\n",
       "       [2017,    0,    8],\n",
       "       [2018,    0,    8],\n",
       "       [2008,    0,    9],\n",
       "       [2009,    0,    9],\n",
       "       [2010,    0,    9],\n",
       "       [2011,    0,    9],\n",
       "       [2012,    0,    9],\n",
       "       [2013,    0,    9],\n",
       "       [2014,    0,    9],\n",
       "       [2015,    0,    9],\n",
       "       [2016,    0,    9],\n",
       "       [2017,    0,    9],\n",
       "       [2018,    0,    9],\n",
       "       [2008,    0,    0],\n",
       "       [2009,    0,    0],\n",
       "       [2010,    0,    0],\n",
       "       [2011,    0,    0],\n",
       "       [2012,    0,    0],\n",
       "       [2013,    0,    0],\n",
       "       [2014,    0,    0],\n",
       "       [2015,    0,    0],\n",
       "       [2016,    0,    0],\n",
       "       [2017,    0,    0],\n",
       "       [2018,    0,    0],\n",
       "       [2008,    0,    5],\n",
       "       [2009,    0,    5],\n",
       "       [2010,    0,    5],\n",
       "       [2011,    0,    5],\n",
       "       [2012,    0,    5],\n",
       "       [2013,    0,    5],\n",
       "       [2014,    0,    5],\n",
       "       [2015,    0,    5],\n",
       "       [2016,    0,    5],\n",
       "       [2017,    0,    5],\n",
       "       [2018,    0,    5],\n",
       "       [2008,    0,    2],\n",
       "       [2009,    0,    2],\n",
       "       [2010,    0,    2],\n",
       "       [2011,    0,    2],\n",
       "       [2012,    0,    2],\n",
       "       [2013,    0,    2],\n",
       "       [2014,    0,    2],\n",
       "       [2015,    0,    2],\n",
       "       [2016,    0,    2],\n",
       "       [2017,    0,    2],\n",
       "       [2018,    0,    2],\n",
       "       [2008,    0,    1],\n",
       "       [2009,    0,    1],\n",
       "       [2010,    0,    1],\n",
       "       [2011,    0,    1],\n",
       "       [2012,    0,    1],\n",
       "       [2013,    0,    1],\n",
       "       [2014,    0,    1],\n",
       "       [2015,    0,    1],\n",
       "       [2016,    0,    1],\n",
       "       [2017,    0,    1],\n",
       "       [2018,    0,    1],\n",
       "       [2008,    0,    6],\n",
       "       [2009,    0,    6],\n",
       "       [2010,    0,    6],\n",
       "       [2011,    0,    6],\n",
       "       [2012,    0,    6],\n",
       "       [2013,    0,    6],\n",
       "       [2014,    0,    6],\n",
       "       [2015,    0,    6],\n",
       "       [2016,    0,    6],\n",
       "       [2017,    0,    6],\n",
       "       [2018,    0,    6],\n",
       "       [2008,    0,    4],\n",
       "       [2009,    0,    4],\n",
       "       [2010,    0,    4],\n",
       "       [2011,    0,    4],\n",
       "       [2012,    0,    4],\n",
       "       [2013,    0,    4],\n",
       "       [2014,    0,    4],\n",
       "       [2015,    0,    4],\n",
       "       [2016,    0,    4],\n",
       "       [2017,    0,    4],\n",
       "       [2018,    0,    4],\n",
       "       [2008,    0,    3],\n",
       "       [2009,    0,    3],\n",
       "       [2010,    0,    3],\n",
       "       [2011,    0,    3],\n",
       "       [2012,    0,    3],\n",
       "       [2013,    0,    3],\n",
       "       [2014,    0,    3],\n",
       "       [2015,    0,    3],\n",
       "       [2016,    0,    3],\n",
       "       [2017,    0,    3],\n",
       "       [2018,    0,    3],\n",
       "       [2008,    1,    7],\n",
       "       [2009,    1,    7],\n",
       "       [2010,    1,    7],\n",
       "       [2011,    1,    7],\n",
       "       [2012,    1,    7],\n",
       "       [2013,    1,    7],\n",
       "       [2014,    1,    7],\n",
       "       [2015,    1,    7],\n",
       "       [2016,    1,    7],\n",
       "       [2017,    1,    7],\n",
       "       [2018,    1,    7],\n",
       "       [2008,    1,    1],\n",
       "       [2009,    1,    1],\n",
       "       [2010,    1,    1],\n",
       "       [2011,    1,    1],\n",
       "       [2012,    1,    1],\n",
       "       [2013,    1,    1],\n",
       "       [2014,    1,    1],\n",
       "       [2015,    1,    1],\n",
       "       [2016,    1,    1],\n",
       "       [2017,    1,    1],\n",
       "       [2018,    1,    1],\n",
       "       [2008,    1,    8],\n",
       "       [2009,    1,    8],\n",
       "       [2010,    1,    8],\n",
       "       [2011,    1,    8],\n",
       "       [2012,    1,    8],\n",
       "       [2013,    1,    8],\n",
       "       [2014,    1,    8],\n",
       "       [2015,    1,    8],\n",
       "       [2016,    1,    8],\n",
       "       [2017,    1,    8],\n",
       "       [2018,    1,    8],\n",
       "       [2008,    1,    9],\n",
       "       [2009,    1,    9],\n",
       "       [2010,    1,    9],\n",
       "       [2011,    1,    9],\n",
       "       [2012,    1,    9],\n",
       "       [2013,    1,    9],\n",
       "       [2014,    1,    9],\n",
       "       [2015,    1,    9],\n",
       "       [2016,    1,    9],\n",
       "       [2017,    1,    9],\n",
       "       [2018,    1,    9],\n",
       "       [2008,    1,    4],\n",
       "       [2009,    1,    4],\n",
       "       [2010,    1,    4],\n",
       "       [2011,    1,    4],\n",
       "       [2012,    1,    4],\n",
       "       [2013,    1,    4],\n",
       "       [2014,    1,    4],\n",
       "       [2015,    1,    4],\n",
       "       [2016,    1,    4],\n",
       "       [2017,    1,    4],\n",
       "       [2018,    1,    4]], dtype=int64)"
      ]
     },
     "execution_count": 30,
     "metadata": {},
     "output_type": "execute_result"
    }
   ],
   "source": [
    "X = data1[['Year','State_code','Crop_code']].values\n",
    "X1 = data1[['Year']].values\n",
    "X2 = data1[['State_code']].values\n",
    "X3 = data1[['Crop_code']].values\n",
    "X\n",
    "#Crop_code\n",
    "# Bajra=0,Cotton=1,Jowar=2,Maize=3,Millets=4,Paddy=5,Ragi=6,Rice=7,Sugarcane=8,Wheat=9"
   ]
  },
  {
   "cell_type": "code",
   "execution_count": 13,
   "metadata": {},
   "outputs": [
    {
     "data": {
      "text/plain": [
       "0      1.22\n",
       "1      1.30\n",
       "2      1.29\n",
       "3      1.50\n",
       "4      1.79\n",
       "       ... \n",
       "160    1.33\n",
       "161    1.44\n",
       "162    1.32\n",
       "163    1.54\n",
       "164    2.76\n",
       "Name: Production, Length: 165, dtype: float64"
      ]
     },
     "execution_count": 13,
     "metadata": {},
     "output_type": "execute_result"
    }
   ],
   "source": [
    "Y = data1['Production']\n",
    "Y"
   ]
  },
  {
   "cell_type": "code",
   "execution_count": 24,
   "metadata": {},
   "outputs": [
    {
     "data": {
      "text/plain": [
       "8.797692098645438"
      ]
     },
     "execution_count": 24,
     "metadata": {},
     "output_type": "execute_result"
    }
   ],
   "source": [
    "X_train,X_test,Y_train,Y_test = train_test_split(X,Y,test_size = 0.1,random_state = 15)\n",
    "regressor = LinearRegression()\n",
    "model = regressor.fit(X_train,Y_train)\n",
    "regressor.score(X_train,Y_train)*100"
   ]
  },
  {
   "cell_type": "code",
   "execution_count": 25,
   "metadata": {},
   "outputs": [
    {
     "data": {
      "text/plain": [
       "array([1.72786853])"
      ]
     },
     "execution_count": 25,
     "metadata": {},
     "output_type": "execute_result"
    }
   ],
   "source": [
    "model.predict([[2018,0,2]])"
   ]
  },
  {
   "cell_type": "code",
   "execution_count": 40,
   "metadata": {},
   "outputs": [],
   "source": [
    "Y_pred = model.predict(X_test)"
   ]
  },
  {
   "cell_type": "code",
   "execution_count": 36,
   "metadata": {},
   "outputs": [
    {
     "data": {
      "text/plain": [
       "<matplotlib.collections.PathCollection at 0x1fdbc06d708>"
      ]
     },
     "execution_count": 36,
     "metadata": {},
     "output_type": "execute_result"
    },
    {
     "data": {
      "image/png": "[encoded data removed]",
      "text/plain": [
       "<Figure size 432x288 with 1 Axes>"
      ]
     },
     "metadata": {
      "needs_background": "light"
     },
     "output_type": "display_data"
    }
   ],
   "source": [
    "plt.scatter(X1,Y)#year"
   ]
  },
  {
   "cell_type": "code",
   "execution_count": 37,
   "metadata": {},
   "outputs": [
    {
     "data": {
      "text/plain": [
       "<matplotlib.collections.PathCollection at 0x1fdbc0da9c8>"
      ]
     },
     "execution_count": 37,
     "metadata": {},
     "output_type": "execute_result"
    },
    {
     "data": {
      "image/png": "[encoded data removed]",
      "text/plain": [
       "<Figure size 432x288 with 1 Axes>"
      ]
     },
     "metadata": {
      "needs_background": "light"
     },
     "output_type": "display_data"
    }
   ],
   "source": [
    "plt.scatter(X2,Y)#state"
   ]
  },
  {
   "cell_type": "code",
   "execution_count": 35,
   "metadata": {},
   "outputs": [
    {
     "data": {
      "text/plain": [
       "<matplotlib.collections.PathCollection at 0x1fdbc004148>"
      ]
     },
     "execution_count": 35,
     "metadata": {},
     "output_type": "execute_result"
    },
    {
     "data": {
      "image/png": "[encoded data removed]",
      "text/plain": [
       "<Figure size 432x288 with 1 Axes>"
      ]
     },
     "metadata": {
      "needs_background": "light"
     },
     "output_type": "display_data"
    }
   ],
   "source": [
    "plt.scatter(X3,Y)#Crop"
   ]
  },
  {
   "cell_type": "code",
   "execution_count": 41,
   "metadata": {},
   "outputs": [
    {
     "data": {
      "text/plain": [
       "[<matplotlib.lines.Line2D at 0x1fdbbb8b708>]"
      ]
     },
     "execution_count": 41,
     "metadata": {},
     "output_type": "execute_result"
    },
    {
     "data": {
      "image/png": "[encoded data removed]",
      "text/plain": [
       "<Figure size 432x288 with 1 Axes>"
      ]
     },
     "metadata": {
      "needs_background": "light"
     },
     "output_type": "display_data"
    }
   ],
   "source": [
    "plt.plot(Y_pred,Y_test,color='red')"
   ]
  },
  {
   "cell_type": "code",
   "execution_count": null,
   "metadata": {},
   "outputs": [],
   "source": []
  }
 ],
 "metadata": {
  "kernelspec": {
   "display_name": "Python 3",
   "language": "python",
   "name": "python3"
  },
  "language_info": {
   "codemirror_mode": {
    "name": "ipython",
    "version": 3
   },
   "file_extension": ".py",
   "mimetype": "text/x-python",
   "name": "python",
   "nbconvert_exporter": "python",
   "pygments_lexer": "ipython3",
   "version": "3.7.4"
  }
 },
 "nbformat": 4,
 "nbformat_minor": 2
}
